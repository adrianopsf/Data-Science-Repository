{
 "cells": [
  {
   "cell_type": "markdown",
   "metadata": {},
   "source": [
    "# <font color='blue'>Data Science Academy - Machine Learning</font>\n",
    "\n",
    "# <font color='blue'>Capítulo 5 - Decision Tree em Python Baseada em Entropia</font>"
   ]
  },
  {
   "cell_type": "markdown",
   "metadata": {},
   "source": [
    "****** Este Jupyter Notebook foi atualizado para a versão 3.6.1. da Linguagem Python em 05/07/2017 ******"
   ]
  },
  {
   "cell_type": "code",
   "execution_count": 1,
   "metadata": {},
   "outputs": [
    {
     "name": "stdout",
     "output_type": "stream",
     "text": [
      "Requirement already satisfied: pydot in /Users/dmpm/anaconda/lib/python3.6/site-packages\n",
      "Requirement already satisfied: pyparsing>=2.1.4 in /Users/dmpm/anaconda/lib/python3.6/site-packages (from pydot)\n"
     ]
    }
   ],
   "source": [
    "!pip install pydot"
   ]
  },
  {
   "cell_type": "code",
   "execution_count": 2,
   "metadata": {},
   "outputs": [
    {
     "name": "stdout",
     "output_type": "stream",
     "text": [
      "Requirement already satisfied: graphviz in /Users/dmpm/anaconda/lib/python3.6/site-packages\r\n"
     ]
    }
   ],
   "source": [
    "!pip install graphviz"
   ]
  },
  {
   "cell_type": "code",
   "execution_count": 3,
   "metadata": {},
   "outputs": [],
   "source": [
    "# Importando os módulos\n",
    "import pandas as pd\n",
    "from sklearn.tree import DecisionTreeClassifier\n",
    "from sklearn.tree import export_graphviz\n",
    "#!pip install pydot\n",
    "#!pip install graphviz\n",
    "import pydot\n",
    "import graphviz\n",
    "# No Mac: brew install graphviz\n",
    "# No Windows: http://www.graphviz.org/\n",
    "# No Linux: http://www.graphviz.org/"
   ]
  },
  {
   "cell_type": "code",
   "execution_count": 4,
   "metadata": {
    "collapsed": true
   },
   "outputs": [],
   "source": [
    "# Criando o dataset\n",
    "instances = [\n",
    "    {'Melhor Amigo': False, 'Especie': 'Cachorro'},\n",
    "    {'Melhor Amigo': True, 'Especie': 'Cachorro'},\n",
    "    {'Melhor Amigo': True, 'Especie': 'Gato'},\n",
    "    {'Melhor Amigo': True, 'Especie': 'Gato'},\n",
    "    {'Melhor Amigo': False, 'Especie': 'Gato'},\n",
    "    {'Melhor Amigo': True, 'Especie': 'Gato'},\n",
    "    {'Melhor Amigo': True, 'Especie': 'Gato'},\n",
    "    {'Melhor Amigo': False, 'Especie': 'Cachorro'},\n",
    "    {'Melhor Amigo': True, 'Especie': 'Gato'},\n",
    "    {'Melhor Amigo': False, 'Especie': 'Cachorro'},\n",
    "    {'Melhor Amigo': False, 'Especie': 'Cachorro'},\n",
    "    {'Melhor Amigo': False, 'Especie': 'Gato'},\n",
    "    {'Melhor Amigo': True, 'Especie': 'Gato'},\n",
    "    {'Melhor Amigo': True, 'Especie': 'Cachorro'}\n",
    "]"
   ]
  },
  {
   "cell_type": "code",
   "execution_count": 5,
   "metadata": {
    "collapsed": true
   },
   "outputs": [],
   "source": [
    "# Transformando o Ddicionário em DataFrame\n",
    "df = pd.DataFrame(instances)"
   ]
  },
  {
   "cell_type": "code",
   "execution_count": 6,
   "metadata": {},
   "outputs": [
    {
     "data": {
      "text/html": [
       "<div>\n",
       "<style>\n",
       "    .dataframe thead tr:only-child th {\n",
       "        text-align: right;\n",
       "    }\n",
       "\n",
       "    .dataframe thead th {\n",
       "        text-align: left;\n",
       "    }\n",
       "\n",
       "    .dataframe tbody tr th {\n",
       "        vertical-align: top;\n",
       "    }\n",
       "</style>\n",
       "<table border=\"1\" class=\"dataframe\">\n",
       "  <thead>\n",
       "    <tr style=\"text-align: right;\">\n",
       "      <th></th>\n",
       "      <th>Especie</th>\n",
       "      <th>Melhor Amigo</th>\n",
       "    </tr>\n",
       "  </thead>\n",
       "  <tbody>\n",
       "    <tr>\n",
       "      <th>0</th>\n",
       "      <td>Cachorro</td>\n",
       "      <td>False</td>\n",
       "    </tr>\n",
       "    <tr>\n",
       "      <th>1</th>\n",
       "      <td>Cachorro</td>\n",
       "      <td>True</td>\n",
       "    </tr>\n",
       "    <tr>\n",
       "      <th>2</th>\n",
       "      <td>Gato</td>\n",
       "      <td>True</td>\n",
       "    </tr>\n",
       "    <tr>\n",
       "      <th>3</th>\n",
       "      <td>Gato</td>\n",
       "      <td>True</td>\n",
       "    </tr>\n",
       "    <tr>\n",
       "      <th>4</th>\n",
       "      <td>Gato</td>\n",
       "      <td>False</td>\n",
       "    </tr>\n",
       "    <tr>\n",
       "      <th>5</th>\n",
       "      <td>Gato</td>\n",
       "      <td>True</td>\n",
       "    </tr>\n",
       "    <tr>\n",
       "      <th>6</th>\n",
       "      <td>Gato</td>\n",
       "      <td>True</td>\n",
       "    </tr>\n",
       "    <tr>\n",
       "      <th>7</th>\n",
       "      <td>Cachorro</td>\n",
       "      <td>False</td>\n",
       "    </tr>\n",
       "    <tr>\n",
       "      <th>8</th>\n",
       "      <td>Gato</td>\n",
       "      <td>True</td>\n",
       "    </tr>\n",
       "    <tr>\n",
       "      <th>9</th>\n",
       "      <td>Cachorro</td>\n",
       "      <td>False</td>\n",
       "    </tr>\n",
       "    <tr>\n",
       "      <th>10</th>\n",
       "      <td>Cachorro</td>\n",
       "      <td>False</td>\n",
       "    </tr>\n",
       "    <tr>\n",
       "      <th>11</th>\n",
       "      <td>Gato</td>\n",
       "      <td>False</td>\n",
       "    </tr>\n",
       "    <tr>\n",
       "      <th>12</th>\n",
       "      <td>Gato</td>\n",
       "      <td>True</td>\n",
       "    </tr>\n",
       "    <tr>\n",
       "      <th>13</th>\n",
       "      <td>Cachorro</td>\n",
       "      <td>True</td>\n",
       "    </tr>\n",
       "  </tbody>\n",
       "</table>\n",
       "</div>"
      ],
      "text/plain": [
       "     Especie  Melhor Amigo\n",
       "0   Cachorro         False\n",
       "1   Cachorro          True\n",
       "2       Gato          True\n",
       "3       Gato          True\n",
       "4       Gato         False\n",
       "5       Gato          True\n",
       "6       Gato          True\n",
       "7   Cachorro         False\n",
       "8       Gato          True\n",
       "9   Cachorro         False\n",
       "10  Cachorro         False\n",
       "11      Gato         False\n",
       "12      Gato          True\n",
       "13  Cachorro          True"
      ]
     },
     "execution_count": 6,
     "metadata": {},
     "output_type": "execute_result"
    }
   ],
   "source": [
    "df"
   ]
  },
  {
   "cell_type": "code",
   "execution_count": 7,
   "metadata": {
    "collapsed": true
   },
   "outputs": [],
   "source": [
    "# Preparando os dados de treino e de teste\n",
    "X_train = [[1] if a else [0] for a in df['Melhor Amigo']]\n",
    "y_train = [1 if d == 'Cachorro' else 0 for d in df['Especie']]\n",
    "labels = ['Melhor Amigo']"
   ]
  },
  {
   "cell_type": "code",
   "execution_count": 8,
   "metadata": {},
   "outputs": [
    {
     "name": "stdout",
     "output_type": "stream",
     "text": [
      "[[0], [1], [1], [1], [0], [1], [1], [0], [1], [0], [0], [0], [1], [1]]\n"
     ]
    }
   ],
   "source": [
    "print (X_train)"
   ]
  },
  {
   "cell_type": "code",
   "execution_count": 9,
   "metadata": {},
   "outputs": [
    {
     "name": "stdout",
     "output_type": "stream",
     "text": [
      "[1, 1, 0, 0, 0, 0, 0, 1, 0, 1, 1, 0, 0, 1]\n"
     ]
    }
   ],
   "source": [
    "print (y_train)"
   ]
  },
  {
   "cell_type": "code",
   "execution_count": 10,
   "metadata": {
    "collapsed": true
   },
   "outputs": [],
   "source": [
    "# Construindo o Classificador\n",
    "# http://scikit-learn.org/stable/modules/generated/sklearn.tree.DecisionTreeClassifier.html\n",
    "clf = DecisionTreeClassifier(max_depth = None, \n",
    "                             max_features = None, \n",
    "                             criterion = 'entropy', \n",
    "                             min_samples_leaf = 1, \n",
    "                             min_samples_split = 2)"
   ]
  },
  {
   "cell_type": "code",
   "execution_count": 11,
   "metadata": {},
   "outputs": [
    {
     "data": {
      "text/plain": [
       "DecisionTreeClassifier(class_weight=None, criterion='entropy', max_depth=None,\n",
       "            max_features=None, max_leaf_nodes=None,\n",
       "            min_impurity_split=1e-07, min_samples_leaf=1,\n",
       "            min_samples_split=2, min_weight_fraction_leaf=0.0,\n",
       "            presort=False, random_state=None, splitter='best')"
      ]
     },
     "execution_count": 11,
     "metadata": {},
     "output_type": "execute_result"
    }
   ],
   "source": [
    "# Apresentando os datasets ao Classificador\n",
    "clf.fit(X_train, y_train)"
   ]
  },
  {
   "cell_type": "code",
   "execution_count": 12,
   "metadata": {
    "collapsed": true
   },
   "outputs": [],
   "source": [
    "# Definindo o nome do arquivo com a árvore de decisão\n",
    "arquivo = '/Users/dmpm/Dropbox/DSA/MachineLearning/Python/Cap06/tree.dot'"
   ]
  },
  {
   "cell_type": "code",
   "execution_count": 13,
   "metadata": {},
   "outputs": [
    {
     "data": {
      "image/svg+xml": [
       "<?xml version=\"1.0\" encoding=\"UTF-8\" standalone=\"no\"?>\n",
       "<!DOCTYPE svg PUBLIC \"-//W3C//DTD SVG 1.1//EN\"\n",
       " \"http://www.w3.org/Graphics/SVG/1.1/DTD/svg11.dtd\">\n",
       "<!-- Generated by graphviz version 2.38.0 (20140413.2041)\n",
       " -->\n",
       "<!-- Title: Tree Pages: 1 -->\n",
       "<svg width=\"250pt\" height=\"158pt\"\n",
       " viewBox=\"0.00 0.00 249.90 158.00\" xmlns=\"http://www.w3.org/2000/svg\" xmlns:xlink=\"http://www.w3.org/1999/xlink\">\n",
       "<g id=\"graph0\" class=\"graph\" transform=\"scale(1 1) rotate(0) translate(4 154)\">\n",
       "<title>Tree</title>\n",
       "<polygon fill=\"white\" stroke=\"none\" points=\"-4,4 -4,-154 245.905,-154 245.905,4 -4,4\"/>\n",
       "<!-- 0 -->\n",
       "<g id=\"node1\" class=\"node\"><title>0</title>\n",
       "<polygon fill=\"none\" stroke=\"black\" points=\"190.71,-150 51.4516,-150 51.4516,-86 190.71,-86 190.71,-150\"/>\n",
       "<text text-anchor=\"middle\" x=\"121.081\" y=\"-134.8\" font-family=\"Times,serif\" font-size=\"14.00\">Melhor Amigo &lt;= 0.5</text>\n",
       "<text text-anchor=\"middle\" x=\"121.081\" y=\"-120.8\" font-family=\"Times,serif\" font-size=\"14.00\">entropy = 0.9852</text>\n",
       "<text text-anchor=\"middle\" x=\"121.081\" y=\"-106.8\" font-family=\"Times,serif\" font-size=\"14.00\">samples = 14</text>\n",
       "<text text-anchor=\"middle\" x=\"121.081\" y=\"-92.8\" font-family=\"Times,serif\" font-size=\"14.00\">value = [8, 6]</text>\n",
       "</g>\n",
       "<!-- 1 -->\n",
       "<g id=\"node2\" class=\"node\"><title>1</title>\n",
       "<polygon fill=\"none\" stroke=\"black\" points=\"112.242,-50 -0.0806823,-50 -0.0806823,-0 112.242,-0 112.242,-50\"/>\n",
       "<text text-anchor=\"middle\" x=\"56.0806\" y=\"-34.8\" font-family=\"Times,serif\" font-size=\"14.00\">entropy = 0.9183</text>\n",
       "<text text-anchor=\"middle\" x=\"56.0806\" y=\"-20.8\" font-family=\"Times,serif\" font-size=\"14.00\">samples = 6</text>\n",
       "<text text-anchor=\"middle\" x=\"56.0806\" y=\"-6.8\" font-family=\"Times,serif\" font-size=\"14.00\">value = [2, 4]</text>\n",
       "</g>\n",
       "<!-- 0&#45;&gt;1 -->\n",
       "<g id=\"edge1\" class=\"edge\"><title>0&#45;&gt;1</title>\n",
       "<path fill=\"none\" stroke=\"black\" d=\"M98.8931,-85.9375C92.5386,-77.0413 85.5974,-67.3236 79.1891,-58.352\"/>\n",
       "<polygon fill=\"black\" stroke=\"black\" points=\"81.9054,-56.1331 73.2449,-50.0301 76.2093,-60.2018 81.9054,-56.1331\"/>\n",
       "<text text-anchor=\"middle\" x=\"69.1349\" y=\"-70.4899\" font-family=\"Times,serif\" font-size=\"14.00\">True</text>\n",
       "</g>\n",
       "<!-- 2 -->\n",
       "<g id=\"node3\" class=\"node\"><title>2</title>\n",
       "<polygon fill=\"none\" stroke=\"black\" points=\"241.73,-50 130.432,-50 130.432,-0 241.73,-0 241.73,-50\"/>\n",
       "<text text-anchor=\"middle\" x=\"186.081\" y=\"-34.8\" font-family=\"Times,serif\" font-size=\"14.00\">entropy = 0.8113</text>\n",
       "<text text-anchor=\"middle\" x=\"186.081\" y=\"-20.8\" font-family=\"Times,serif\" font-size=\"14.00\">samples = 8</text>\n",
       "<text text-anchor=\"middle\" x=\"186.081\" y=\"-6.8\" font-family=\"Times,serif\" font-size=\"14.00\">value = [6, 2]</text>\n",
       "</g>\n",
       "<!-- 0&#45;&gt;2 -->\n",
       "<g id=\"edge2\" class=\"edge\"><title>0&#45;&gt;2</title>\n",
       "<path fill=\"none\" stroke=\"black\" d=\"M143.268,-85.9375C149.623,-77.0413 156.564,-67.3236 162.972,-58.352\"/>\n",
       "<polygon fill=\"black\" stroke=\"black\" points=\"165.952,-60.2018 168.916,-50.0301 160.256,-56.1331 165.952,-60.2018\"/>\n",
       "<text text-anchor=\"middle\" x=\"173.026\" y=\"-70.4899\" font-family=\"Times,serif\" font-size=\"14.00\">False</text>\n",
       "</g>\n",
       "</g>\n",
       "</svg>\n"
      ],
      "text/plain": [
       "<graphviz.files.Source at 0x1132190b8>"
      ]
     },
     "execution_count": 13,
     "metadata": {},
     "output_type": "execute_result"
    }
   ],
   "source": [
    "# Gerando o gráfico da árvore de decisão\n",
    "export_graphviz(clf, out_file = arquivo, feature_names = labels)\n",
    "with open(arquivo) as f:\n",
    "    dot_graph = f.read()\n",
    "graphviz.Source(dot_graph)"
   ]
  },
  {
   "cell_type": "code",
   "execution_count": 14,
   "metadata": {
    "collapsed": true
   },
   "outputs": [],
   "source": [
    "!dot -Tpng tree.dot -o tree.png"
   ]
  },
  {
   "cell_type": "markdown",
   "metadata": {},
   "source": [
    "### Fim"
   ]
  },
  {
   "cell_type": "markdown",
   "metadata": {},
   "source": [
    "### Obrigado - Data Science Academy - <a href=http://facebook.com/dsacademy>facebook.com/dsacademybr</a>"
   ]
  }
 ],
 "metadata": {
  "anaconda-cloud": {},
  "kernelspec": {
   "display_name": "Python 3",
   "language": "python",
   "name": "python3"
  },
  "language_info": {
   "codemirror_mode": {
    "name": "ipython",
    "version": 3
   },
   "file_extension": ".py",
   "mimetype": "text/x-python",
   "name": "python",
   "nbconvert_exporter": "python",
   "pygments_lexer": "ipython3",
   "version": "3.6.1"
  }
 },
 "nbformat": 4,
 "nbformat_minor": 1
}
